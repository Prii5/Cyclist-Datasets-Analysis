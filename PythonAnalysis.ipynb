{
 "cells": [
  {
   "cell_type": "code",
   "execution_count": 1,
   "id": "3ea4ced3",
   "metadata": {},
   "outputs": [],
   "source": [
    "# importing all libraries\n",
    "\n",
    "import pandas as pd   \n",
    "import datetime as dt\n",
    "import seaborn as sns\n",
    "import matplotlib.pyplot as plt\n",
    "import plotly.express as px\n",
    "import numpy as np\n",
    "\n",
    "# to supress the warnings-- especially for vizualizations\n",
    "import warnings\n",
    "warnings.filterwarnings('ignore')"
   ]
  },
  {
   "cell_type": "markdown",
   "id": "b797c3eb",
   "metadata": {},
   "source": [
    "## Understanding and Preparing the dataset"
   ]
  },
  {
   "cell_type": "code",
   "execution_count": 2,
   "id": "d93ecebc",
   "metadata": {},
   "outputs": [],
   "source": [
    "# getting all the dataset\n",
    "\n",
    "Jan = pd.read_csv('202101-divvy-tripdata.csv')\n",
    "\n",
    "feb = pd.read_csv('202102-divvy-tripdata.csv')\n",
    "\n",
    "march = pd.read_csv('202103-divvy-tripdata.csv')\n",
    "\n",
    "april = pd.read_csv('202104-divvy-tripdata.csv')\n",
    "\n",
    "may = pd.read_csv('202105-divvy-tripdata.csv')\n",
    "\n",
    "june = pd.read_csv('202106-divvy-tripdata.csv')\n",
    "\n",
    "july = pd.read_csv('202107-divvy-tripdata.csv')\n",
    "\n",
    "aug = pd.read_csv('202108-divvy-tripdata.csv')\n",
    "\n",
    "sep = pd.read_csv('202109-divvy-tripdata.csv')\n",
    "\n",
    "octo = pd.read_csv('202110-divvy-tripdata.csv')\n",
    "\n",
    "nov = pd.read_csv('202111-divvy-tripdata.csv')\n",
    "\n",
    "dec = pd.read_csv('202112-divvy-tripdata.csv')"
   ]
  },
  {
   "cell_type": "code",
   "execution_count": 3,
   "id": "4c010e8c",
   "metadata": {},
   "outputs": [],
   "source": [
    "# merging the dataset to get year-long overview \n",
    "df = pd.concat([Jan, feb, march, april, may, june, july, aug, sep, octo, nov, dec])"
   ]
  },
  {
   "cell_type": "code",
   "execution_count": 4,
   "id": "27abdb66",
   "metadata": {},
   "outputs": [
    {
     "data": {
      "text/html": [
       "<div>\n",
       "<style scoped>\n",
       "    .dataframe tbody tr th:only-of-type {\n",
       "        vertical-align: middle;\n",
       "    }\n",
       "\n",
       "    .dataframe tbody tr th {\n",
       "        vertical-align: top;\n",
       "    }\n",
       "\n",
       "    .dataframe thead th {\n",
       "        text-align: right;\n",
       "    }\n",
       "</style>\n",
       "<table border=\"1\" class=\"dataframe\">\n",
       "  <thead>\n",
       "    <tr style=\"text-align: right;\">\n",
       "      <th></th>\n",
       "      <th>ride_id</th>\n",
       "      <th>rideable_type</th>\n",
       "      <th>started_at</th>\n",
       "      <th>ended_at</th>\n",
       "      <th>start_station_name</th>\n",
       "      <th>start_station_id</th>\n",
       "      <th>end_station_name</th>\n",
       "      <th>end_station_id</th>\n",
       "      <th>start_lat</th>\n",
       "      <th>start_lng</th>\n",
       "      <th>end_lat</th>\n",
       "      <th>end_lng</th>\n",
       "      <th>member_casual</th>\n",
       "    </tr>\n",
       "  </thead>\n",
       "  <tbody>\n",
       "    <tr>\n",
       "      <th>0</th>\n",
       "      <td>E19E6F1B8D4C42ED</td>\n",
       "      <td>electric_bike</td>\n",
       "      <td>2021-01-23 16:14:19</td>\n",
       "      <td>2021-01-23 16:24:44</td>\n",
       "      <td>California Ave &amp; Cortez St</td>\n",
       "      <td>17660</td>\n",
       "      <td>NaN</td>\n",
       "      <td>NaN</td>\n",
       "      <td>41.900341</td>\n",
       "      <td>-87.696743</td>\n",
       "      <td>41.89</td>\n",
       "      <td>-87.72</td>\n",
       "      <td>member</td>\n",
       "    </tr>\n",
       "    <tr>\n",
       "      <th>1</th>\n",
       "      <td>DC88F20C2C55F27F</td>\n",
       "      <td>electric_bike</td>\n",
       "      <td>2021-01-27 18:43:08</td>\n",
       "      <td>2021-01-27 18:47:12</td>\n",
       "      <td>California Ave &amp; Cortez St</td>\n",
       "      <td>17660</td>\n",
       "      <td>NaN</td>\n",
       "      <td>NaN</td>\n",
       "      <td>41.900333</td>\n",
       "      <td>-87.696707</td>\n",
       "      <td>41.90</td>\n",
       "      <td>-87.69</td>\n",
       "      <td>member</td>\n",
       "    </tr>\n",
       "    <tr>\n",
       "      <th>2</th>\n",
       "      <td>EC45C94683FE3F27</td>\n",
       "      <td>electric_bike</td>\n",
       "      <td>2021-01-21 22:35:54</td>\n",
       "      <td>2021-01-21 22:37:14</td>\n",
       "      <td>California Ave &amp; Cortez St</td>\n",
       "      <td>17660</td>\n",
       "      <td>NaN</td>\n",
       "      <td>NaN</td>\n",
       "      <td>41.900313</td>\n",
       "      <td>-87.696643</td>\n",
       "      <td>41.90</td>\n",
       "      <td>-87.70</td>\n",
       "      <td>member</td>\n",
       "    </tr>\n",
       "    <tr>\n",
       "      <th>3</th>\n",
       "      <td>4FA453A75AE377DB</td>\n",
       "      <td>electric_bike</td>\n",
       "      <td>2021-01-07 13:31:13</td>\n",
       "      <td>2021-01-07 13:42:55</td>\n",
       "      <td>California Ave &amp; Cortez St</td>\n",
       "      <td>17660</td>\n",
       "      <td>NaN</td>\n",
       "      <td>NaN</td>\n",
       "      <td>41.900399</td>\n",
       "      <td>-87.696662</td>\n",
       "      <td>41.92</td>\n",
       "      <td>-87.69</td>\n",
       "      <td>member</td>\n",
       "    </tr>\n",
       "    <tr>\n",
       "      <th>4</th>\n",
       "      <td>BE5E8EB4E7263A0B</td>\n",
       "      <td>electric_bike</td>\n",
       "      <td>2021-01-23 02:24:02</td>\n",
       "      <td>2021-01-23 02:24:45</td>\n",
       "      <td>California Ave &amp; Cortez St</td>\n",
       "      <td>17660</td>\n",
       "      <td>NaN</td>\n",
       "      <td>NaN</td>\n",
       "      <td>41.900326</td>\n",
       "      <td>-87.696697</td>\n",
       "      <td>41.90</td>\n",
       "      <td>-87.70</td>\n",
       "      <td>casual</td>\n",
       "    </tr>\n",
       "  </tbody>\n",
       "</table>\n",
       "</div>"
      ],
      "text/plain": [
       "            ride_id  rideable_type           started_at             ended_at  \\\n",
       "0  E19E6F1B8D4C42ED  electric_bike  2021-01-23 16:14:19  2021-01-23 16:24:44   \n",
       "1  DC88F20C2C55F27F  electric_bike  2021-01-27 18:43:08  2021-01-27 18:47:12   \n",
       "2  EC45C94683FE3F27  electric_bike  2021-01-21 22:35:54  2021-01-21 22:37:14   \n",
       "3  4FA453A75AE377DB  electric_bike  2021-01-07 13:31:13  2021-01-07 13:42:55   \n",
       "4  BE5E8EB4E7263A0B  electric_bike  2021-01-23 02:24:02  2021-01-23 02:24:45   \n",
       "\n",
       "           start_station_name start_station_id end_station_name  \\\n",
       "0  California Ave & Cortez St            17660              NaN   \n",
       "1  California Ave & Cortez St            17660              NaN   \n",
       "2  California Ave & Cortez St            17660              NaN   \n",
       "3  California Ave & Cortez St            17660              NaN   \n",
       "4  California Ave & Cortez St            17660              NaN   \n",
       "\n",
       "  end_station_id  start_lat  start_lng  end_lat  end_lng member_casual  \n",
       "0            NaN  41.900341 -87.696743    41.89   -87.72        member  \n",
       "1            NaN  41.900333 -87.696707    41.90   -87.69        member  \n",
       "2            NaN  41.900313 -87.696643    41.90   -87.70        member  \n",
       "3            NaN  41.900399 -87.696662    41.92   -87.69        member  \n",
       "4            NaN  41.900326 -87.696697    41.90   -87.70        casual  "
      ]
     },
     "execution_count": 4,
     "metadata": {},
     "output_type": "execute_result"
    }
   ],
   "source": [
    "df.head()"
   ]
  },
  {
   "cell_type": "code",
   "execution_count": 5,
   "id": "72879681",
   "metadata": {},
   "outputs": [
    {
     "name": "stdout",
     "output_type": "stream",
     "text": [
      "<class 'pandas.core.frame.DataFrame'>\n",
      "Int64Index: 5595063 entries, 0 to 247539\n",
      "Data columns (total 13 columns):\n",
      " #   Column              Dtype  \n",
      "---  ------              -----  \n",
      " 0   ride_id             object \n",
      " 1   rideable_type       object \n",
      " 2   started_at          object \n",
      " 3   ended_at            object \n",
      " 4   start_station_name  object \n",
      " 5   start_station_id    object \n",
      " 6   end_station_name    object \n",
      " 7   end_station_id      object \n",
      " 8   start_lat           float64\n",
      " 9   start_lng           float64\n",
      " 10  end_lat             float64\n",
      " 11  end_lng             float64\n",
      " 12  member_casual       object \n",
      "dtypes: float64(4), object(9)\n",
      "memory usage: 597.6+ MB\n"
     ]
    }
   ],
   "source": [
    "df.info()"
   ]
  },
  {
   "cell_type": "code",
   "execution_count": 6,
   "id": "c61bfeaa",
   "metadata": {},
   "outputs": [],
   "source": [
    "\"\"\"\n",
    "fixing the datatypes based on the info\n",
    "\"\"\"\n",
    "\n",
    "df['started_at'] = pd.to_datetime(df['started_at'])\n",
    "df['ended_at'] = pd.to_datetime(df['ended_at'])"
   ]
  },
  {
   "cell_type": "code",
   "execution_count": 7,
   "id": "21b841ea",
   "metadata": {},
   "outputs": [],
   "source": [
    "\"\"\"\n",
    "creating a new column to get the duration for each ride, duration may\n",
    "better help in overall understanding\n",
    "\"\"\"\n",
    "\n",
    "df['ride_duration']=(df['ended_at']- df['started_at']).astype('timedelta64[m]')"
   ]
  },
  {
   "cell_type": "code",
   "execution_count": 8,
   "id": "737c968f",
   "metadata": {},
   "outputs": [
    {
     "data": {
      "text/html": [
       "<div>\n",
       "<style scoped>\n",
       "    .dataframe tbody tr th:only-of-type {\n",
       "        vertical-align: middle;\n",
       "    }\n",
       "\n",
       "    .dataframe tbody tr th {\n",
       "        vertical-align: top;\n",
       "    }\n",
       "\n",
       "    .dataframe thead th {\n",
       "        text-align: right;\n",
       "    }\n",
       "</style>\n",
       "<table border=\"1\" class=\"dataframe\">\n",
       "  <thead>\n",
       "    <tr style=\"text-align: right;\">\n",
       "      <th></th>\n",
       "      <th>ride_id</th>\n",
       "      <th>rideable_type</th>\n",
       "      <th>started_at</th>\n",
       "      <th>ended_at</th>\n",
       "      <th>start_station_name</th>\n",
       "      <th>start_station_id</th>\n",
       "      <th>end_station_name</th>\n",
       "      <th>end_station_id</th>\n",
       "      <th>start_lat</th>\n",
       "      <th>start_lng</th>\n",
       "      <th>end_lat</th>\n",
       "      <th>end_lng</th>\n",
       "      <th>member_casual</th>\n",
       "      <th>ride_duration</th>\n",
       "    </tr>\n",
       "  </thead>\n",
       "  <tbody>\n",
       "    <tr>\n",
       "      <th>0</th>\n",
       "      <td>E19E6F1B8D4C42ED</td>\n",
       "      <td>electric_bike</td>\n",
       "      <td>2021-01-23 16:14:19</td>\n",
       "      <td>2021-01-23 16:24:44</td>\n",
       "      <td>California Ave &amp; Cortez St</td>\n",
       "      <td>17660</td>\n",
       "      <td>NaN</td>\n",
       "      <td>NaN</td>\n",
       "      <td>41.900341</td>\n",
       "      <td>-87.696743</td>\n",
       "      <td>41.890000</td>\n",
       "      <td>-87.7200</td>\n",
       "      <td>member</td>\n",
       "      <td>10.0</td>\n",
       "    </tr>\n",
       "    <tr>\n",
       "      <th>1</th>\n",
       "      <td>DC88F20C2C55F27F</td>\n",
       "      <td>electric_bike</td>\n",
       "      <td>2021-01-27 18:43:08</td>\n",
       "      <td>2021-01-27 18:47:12</td>\n",
       "      <td>California Ave &amp; Cortez St</td>\n",
       "      <td>17660</td>\n",
       "      <td>NaN</td>\n",
       "      <td>NaN</td>\n",
       "      <td>41.900333</td>\n",
       "      <td>-87.696707</td>\n",
       "      <td>41.900000</td>\n",
       "      <td>-87.6900</td>\n",
       "      <td>member</td>\n",
       "      <td>4.0</td>\n",
       "    </tr>\n",
       "    <tr>\n",
       "      <th>2</th>\n",
       "      <td>EC45C94683FE3F27</td>\n",
       "      <td>electric_bike</td>\n",
       "      <td>2021-01-21 22:35:54</td>\n",
       "      <td>2021-01-21 22:37:14</td>\n",
       "      <td>California Ave &amp; Cortez St</td>\n",
       "      <td>17660</td>\n",
       "      <td>NaN</td>\n",
       "      <td>NaN</td>\n",
       "      <td>41.900313</td>\n",
       "      <td>-87.696643</td>\n",
       "      <td>41.900000</td>\n",
       "      <td>-87.7000</td>\n",
       "      <td>member</td>\n",
       "      <td>1.0</td>\n",
       "    </tr>\n",
       "    <tr>\n",
       "      <th>3</th>\n",
       "      <td>4FA453A75AE377DB</td>\n",
       "      <td>electric_bike</td>\n",
       "      <td>2021-01-07 13:31:13</td>\n",
       "      <td>2021-01-07 13:42:55</td>\n",
       "      <td>California Ave &amp; Cortez St</td>\n",
       "      <td>17660</td>\n",
       "      <td>NaN</td>\n",
       "      <td>NaN</td>\n",
       "      <td>41.900399</td>\n",
       "      <td>-87.696662</td>\n",
       "      <td>41.920000</td>\n",
       "      <td>-87.6900</td>\n",
       "      <td>member</td>\n",
       "      <td>11.0</td>\n",
       "    </tr>\n",
       "    <tr>\n",
       "      <th>4</th>\n",
       "      <td>BE5E8EB4E7263A0B</td>\n",
       "      <td>electric_bike</td>\n",
       "      <td>2021-01-23 02:24:02</td>\n",
       "      <td>2021-01-23 02:24:45</td>\n",
       "      <td>California Ave &amp; Cortez St</td>\n",
       "      <td>17660</td>\n",
       "      <td>NaN</td>\n",
       "      <td>NaN</td>\n",
       "      <td>41.900326</td>\n",
       "      <td>-87.696697</td>\n",
       "      <td>41.900000</td>\n",
       "      <td>-87.7000</td>\n",
       "      <td>casual</td>\n",
       "      <td>0.0</td>\n",
       "    </tr>\n",
       "    <tr>\n",
       "      <th>5</th>\n",
       "      <td>5D8969F88C773979</td>\n",
       "      <td>electric_bike</td>\n",
       "      <td>2021-01-09 14:24:07</td>\n",
       "      <td>2021-01-09 15:17:54</td>\n",
       "      <td>California Ave &amp; Cortez St</td>\n",
       "      <td>17660</td>\n",
       "      <td>NaN</td>\n",
       "      <td>NaN</td>\n",
       "      <td>41.900409</td>\n",
       "      <td>-87.696763</td>\n",
       "      <td>41.940000</td>\n",
       "      <td>-87.7100</td>\n",
       "      <td>casual</td>\n",
       "      <td>53.0</td>\n",
       "    </tr>\n",
       "    <tr>\n",
       "      <th>6</th>\n",
       "      <td>09275CC10F854E9E</td>\n",
       "      <td>electric_bike</td>\n",
       "      <td>2021-01-04 05:05:04</td>\n",
       "      <td>2021-01-04 05:10:39</td>\n",
       "      <td>California Ave &amp; Cortez St</td>\n",
       "      <td>17660</td>\n",
       "      <td>NaN</td>\n",
       "      <td>NaN</td>\n",
       "      <td>41.900391</td>\n",
       "      <td>-87.696757</td>\n",
       "      <td>41.900000</td>\n",
       "      <td>-87.7100</td>\n",
       "      <td>member</td>\n",
       "      <td>5.0</td>\n",
       "    </tr>\n",
       "    <tr>\n",
       "      <th>7</th>\n",
       "      <td>DF7A32A217AEFB14</td>\n",
       "      <td>electric_bike</td>\n",
       "      <td>2021-01-14 15:07:00</td>\n",
       "      <td>2021-01-14 15:13:40</td>\n",
       "      <td>California Ave &amp; Cortez St</td>\n",
       "      <td>17660</td>\n",
       "      <td>NaN</td>\n",
       "      <td>NaN</td>\n",
       "      <td>41.900390</td>\n",
       "      <td>-87.696728</td>\n",
       "      <td>41.910000</td>\n",
       "      <td>-87.7000</td>\n",
       "      <td>member</td>\n",
       "      <td>6.0</td>\n",
       "    </tr>\n",
       "    <tr>\n",
       "      <th>8</th>\n",
       "      <td>C2EFC62379EB716C</td>\n",
       "      <td>electric_bike</td>\n",
       "      <td>2021-01-09 09:57:55</td>\n",
       "      <td>2021-01-09 10:00:26</td>\n",
       "      <td>California Ave &amp; Cortez St</td>\n",
       "      <td>17660</td>\n",
       "      <td>NaN</td>\n",
       "      <td>NaN</td>\n",
       "      <td>41.900306</td>\n",
       "      <td>-87.696796</td>\n",
       "      <td>41.900000</td>\n",
       "      <td>-87.7000</td>\n",
       "      <td>member</td>\n",
       "      <td>2.0</td>\n",
       "    </tr>\n",
       "    <tr>\n",
       "      <th>9</th>\n",
       "      <td>B9F73448DFBE0D45</td>\n",
       "      <td>classic_bike</td>\n",
       "      <td>2021-01-24 19:15:38</td>\n",
       "      <td>2021-01-24 19:22:51</td>\n",
       "      <td>California Ave &amp; Cortez St</td>\n",
       "      <td>17660</td>\n",
       "      <td>Wood St &amp; Augusta Blvd</td>\n",
       "      <td>657</td>\n",
       "      <td>41.900363</td>\n",
       "      <td>-87.696704</td>\n",
       "      <td>41.899181</td>\n",
       "      <td>-87.6722</td>\n",
       "      <td>member</td>\n",
       "      <td>7.0</td>\n",
       "    </tr>\n",
       "  </tbody>\n",
       "</table>\n",
       "</div>"
      ],
      "text/plain": [
       "            ride_id  rideable_type          started_at            ended_at  \\\n",
       "0  E19E6F1B8D4C42ED  electric_bike 2021-01-23 16:14:19 2021-01-23 16:24:44   \n",
       "1  DC88F20C2C55F27F  electric_bike 2021-01-27 18:43:08 2021-01-27 18:47:12   \n",
       "2  EC45C94683FE3F27  electric_bike 2021-01-21 22:35:54 2021-01-21 22:37:14   \n",
       "3  4FA453A75AE377DB  electric_bike 2021-01-07 13:31:13 2021-01-07 13:42:55   \n",
       "4  BE5E8EB4E7263A0B  electric_bike 2021-01-23 02:24:02 2021-01-23 02:24:45   \n",
       "5  5D8969F88C773979  electric_bike 2021-01-09 14:24:07 2021-01-09 15:17:54   \n",
       "6  09275CC10F854E9E  electric_bike 2021-01-04 05:05:04 2021-01-04 05:10:39   \n",
       "7  DF7A32A217AEFB14  electric_bike 2021-01-14 15:07:00 2021-01-14 15:13:40   \n",
       "8  C2EFC62379EB716C  electric_bike 2021-01-09 09:57:55 2021-01-09 10:00:26   \n",
       "9  B9F73448DFBE0D45   classic_bike 2021-01-24 19:15:38 2021-01-24 19:22:51   \n",
       "\n",
       "           start_station_name start_station_id        end_station_name  \\\n",
       "0  California Ave & Cortez St            17660                     NaN   \n",
       "1  California Ave & Cortez St            17660                     NaN   \n",
       "2  California Ave & Cortez St            17660                     NaN   \n",
       "3  California Ave & Cortez St            17660                     NaN   \n",
       "4  California Ave & Cortez St            17660                     NaN   \n",
       "5  California Ave & Cortez St            17660                     NaN   \n",
       "6  California Ave & Cortez St            17660                     NaN   \n",
       "7  California Ave & Cortez St            17660                     NaN   \n",
       "8  California Ave & Cortez St            17660                     NaN   \n",
       "9  California Ave & Cortez St            17660  Wood St & Augusta Blvd   \n",
       "\n",
       "  end_station_id  start_lat  start_lng    end_lat  end_lng member_casual  \\\n",
       "0            NaN  41.900341 -87.696743  41.890000 -87.7200        member   \n",
       "1            NaN  41.900333 -87.696707  41.900000 -87.6900        member   \n",
       "2            NaN  41.900313 -87.696643  41.900000 -87.7000        member   \n",
       "3            NaN  41.900399 -87.696662  41.920000 -87.6900        member   \n",
       "4            NaN  41.900326 -87.696697  41.900000 -87.7000        casual   \n",
       "5            NaN  41.900409 -87.696763  41.940000 -87.7100        casual   \n",
       "6            NaN  41.900391 -87.696757  41.900000 -87.7100        member   \n",
       "7            NaN  41.900390 -87.696728  41.910000 -87.7000        member   \n",
       "8            NaN  41.900306 -87.696796  41.900000 -87.7000        member   \n",
       "9            657  41.900363 -87.696704  41.899181 -87.6722        member   \n",
       "\n",
       "   ride_duration  \n",
       "0           10.0  \n",
       "1            4.0  \n",
       "2            1.0  \n",
       "3           11.0  \n",
       "4            0.0  \n",
       "5           53.0  \n",
       "6            5.0  \n",
       "7            6.0  \n",
       "8            2.0  \n",
       "9            7.0  "
      ]
     },
     "execution_count": 8,
     "metadata": {},
     "output_type": "execute_result"
    }
   ],
   "source": [
    "df.head(10)"
   ]
  },
  {
   "cell_type": "code",
   "execution_count": 9,
   "id": "c9e8d1f3",
   "metadata": {},
   "outputs": [],
   "source": [
    "# creating a backup for the dataset\n",
    "df_all = df"
   ]
  },
  {
   "cell_type": "code",
   "execution_count": null,
   "id": "0b6a30ab",
   "metadata": {},
   "outputs": [],
   "source": []
  },
  {
   "cell_type": "code",
   "execution_count": 10,
   "id": "c3a9365a",
   "metadata": {},
   "outputs": [
    {
     "data": {
      "text/plain": [
       "('BuPu',\n",
       " 'BuPu_r',\n",
       " 'CMRmap',\n",
       " 'CMRmap_r',\n",
       " 'Dark2',\n",
       " 'Dark2_r',\n",
       " 'GnBu',\n",
       " 'GnBu_r',\n",
       " 'Greens',\n",
       " 'Greens_r',\n",
       " 'Greys',\n",
       " 'Greys_r',\n",
       " 'OrRd',\n",
       " 'OrRd_r',\n",
       " 'Oranges',\n",
       " 'Oranges_r',\n",
       " 'PRGn',\n",
       " 'PRGn_r',\n",
       " 'Paired',\n",
       " 'Paired_r',\n",
       " 'Pastel1',\n",
       " 'Pastel1_r',\n",
       " 'Pastel2',\n",
       " 'Pastel2_r',\n",
       " 'PiYG',\n",
       " 'PiYG_r',\n",
       " 'PuBu',\n",
       " 'PuBuGn',\n",
       " 'PuBuGn_r',\n",
       " 'PuBu_r',\n",
       " 'PuOr',\n",
       " 'PuOr_r',\n",
       " 'PuRd',\n",
       " 'PuRd_r',\n",
       " 'Purples',\n",
       " 'Purples_r',\n",
       " 'RdBu',\n",
       " 'RdBu_r',\n",
       " 'RdGy',\n",
       " 'RdGy_r',\n",
       " 'RdPu',\n",
       " 'RdPu_r',\n",
       " 'RdYlBu',\n",
       " 'RdYlBu_r',\n",
       " 'RdYlGn',\n",
       " 'RdYlGn_r',\n",
       " 'Reds',\n",
       " 'Reds_r',\n",
       " 'Set1',\n",
       " 'Set1_r',\n",
       " 'Set2',\n",
       " 'Set2_r',\n",
       " 'Set3',\n",
       " 'Set3_r',\n",
       " 'Spectral',\n",
       " 'Spectral_r',\n",
       " 'Wistia',\n",
       " 'Wistia_r',\n",
       " 'YlGn',\n",
       " 'YlGnBu',\n",
       " 'YlGnBu_r',\n",
       " 'YlGn_r',\n",
       " 'YlOrBr',\n",
       " 'YlOrBr_r',\n",
       " 'YlOrRd',\n",
       " 'YlOrRd_r',\n",
       " 'afmhot',\n",
       " 'afmhot_r',\n",
       " 'autumn',\n",
       " 'autumn_r',\n",
       " 'binary',\n",
       " 'binary_r',\n",
       " 'bone',\n",
       " 'bone_r',\n",
       " 'brg',\n",
       " 'brg_r',\n",
       " 'bwr',\n",
       " 'bwr_r',\n",
       " 'cividis',\n",
       " 'cividis_r',\n",
       " 'cool',\n",
       " 'cool_r',\n",
       " 'coolwarm',\n",
       " 'coolwarm_r',\n",
       " 'copper',\n",
       " 'copper_r',\n",
       " 'crest',\n",
       " 'crest_r',\n",
       " 'cubehelix',\n",
       " 'cubehelix_r',\n",
       " 'flag',\n",
       " 'flag_r',\n",
       " 'flare',\n",
       " 'flare_r',\n",
       " 'gist_earth',\n",
       " 'gist_earth_r',\n",
       " 'gist_gray',\n",
       " 'gist_gray_r',\n",
       " 'gist_heat',\n",
       " 'gist_heat_r',\n",
       " 'gist_ncar',\n",
       " 'gist_ncar_r',\n",
       " 'gist_rainbow',\n",
       " 'gist_rainbow_r',\n",
       " 'gist_stern',\n",
       " 'gist_stern_r',\n",
       " 'gist_yarg',\n",
       " 'gist_yarg_r',\n",
       " 'gnuplot',\n",
       " 'gnuplot2',\n",
       " 'gnuplot2_r',\n",
       " 'gnuplot_r',\n",
       " 'gray',\n",
       " 'gray_r',\n",
       " 'hot',\n",
       " 'hot_r',\n",
       " 'hsv',\n",
       " 'hsv_r',\n",
       " 'icefire',\n",
       " 'icefire_r',\n",
       " 'inferno',\n",
       " 'inferno_r',\n",
       " 'jet',\n",
       " 'jet_r',\n",
       " 'magma',\n",
       " 'magma_r',\n",
       " 'mako',\n",
       " 'mako_r',\n",
       " 'nipy_spectral',\n",
       " 'nipy_spectral_r',\n",
       " 'ocean',\n",
       " 'ocean_r',\n",
       " 'pink',\n",
       " 'pink_r',\n",
       " 'plasma',\n",
       " 'plasma_r',\n",
       " 'prism',\n",
       " 'prism_r',\n",
       " 'rainbow',\n",
       " 'rainbow_r',\n",
       " 'rocket',\n",
       " 'rocket_r',\n",
       " 'seismic',\n",
       " 'seismic_r',\n",
       " 'spring',\n",
       " 'spring_r',\n",
       " 'summer',\n",
       " 'summer_r',\n",
       " 'tab10',\n",
       " 'tab10_r',\n",
       " 'tab20',\n",
       " 'tab20_r',\n",
       " 'tab20b',\n",
       " 'tab20b_r',\n",
       " 'tab20c',\n",
       " 'tab20c_r',\n",
       " 'terrain',\n",
       " 'terrain_r',\n",
       " 'turbo',\n",
       " 'turbo_r',\n",
       " 'twilight',\n",
       " 'twilight_r',\n",
       " 'twilight_shifted',\n",
       " 'twilight_shifted_r',\n",
       " 'viridis',\n",
       " 'viridis_r',\n",
       " 'vlag',\n",
       " 'vlag_r',\n",
       " 'winter',\n",
       " 'winter_r')"
      ]
     },
     "execution_count": 10,
     "metadata": {},
     "output_type": "execute_result"
    }
   ],
   "source": [
    "# all the accents for vizualizations\n",
    "'Accent', 'Accent_r', 'Blues', 'Blues_r', 'BrBG', 'BrBG_r', 'BuGn', 'BuGn_r', \n",
    "'BuPu', 'BuPu_r', 'CMRmap', 'CMRmap_r', 'Dark2', 'Dark2_r', 'GnBu', 'GnBu_r', 'Greens', 'Greens_r', 'Greys', 'Greys_r', 'OrRd', 'OrRd_r', 'Oranges', 'Oranges_r', 'PRGn', 'PRGn_r', 'Paired', 'Paired_r', 'Pastel1', 'Pastel1_r', 'Pastel2', 'Pastel2_r', 'PiYG', 'PiYG_r', 'PuBu', 'PuBuGn', 'PuBuGn_r', 'PuBu_r', 'PuOr', 'PuOr_r', 'PuRd', 'PuRd_r', 'Purples', 'Purples_r', 'RdBu', 'RdBu_r', 'RdGy', 'RdGy_r', 'RdPu', 'RdPu_r', 'RdYlBu', 'RdYlBu_r', 'RdYlGn', 'RdYlGn_r', 'Reds', 'Reds_r', 'Set1', 'Set1_r', 'Set2', 'Set2_r', 'Set3', 'Set3_r', 'Spectral', 'Spectral_r', 'Wistia', 'Wistia_r', 'YlGn', 'YlGnBu', 'YlGnBu_r', 'YlGn_r', 'YlOrBr', 'YlOrBr_r', 'YlOrRd', 'YlOrRd_r', 'afmhot', 'afmhot_r', 'autumn', 'autumn_r', 'binary', 'binary_r', 'bone', 'bone_r', 'brg', 'brg_r', 'bwr', 'bwr_r', 'cividis', 'cividis_r', 'cool', 'cool_r', 'coolwarm', 'coolwarm_r', 'copper', 'copper_r', 'crest', 'crest_r', 'cubehelix', 'cubehelix_r', 'flag', 'flag_r', 'flare', 'flare_r', 'gist_earth', 'gist_earth_r', 'gist_gray', 'gist_gray_r', 'gist_heat', 'gist_heat_r', 'gist_ncar', 'gist_ncar_r', 'gist_rainbow', 'gist_rainbow_r', 'gist_stern', 'gist_stern_r', 'gist_yarg', 'gist_yarg_r', 'gnuplot', 'gnuplot2', 'gnuplot2_r', 'gnuplot_r', 'gray', 'gray_r', 'hot', 'hot_r', 'hsv', 'hsv_r', 'icefire', 'icefire_r', 'inferno', 'inferno_r', 'jet', 'jet_r', 'magma', 'magma_r', 'mako', 'mako_r', 'nipy_spectral', 'nipy_spectral_r', 'ocean', 'ocean_r', 'pink', 'pink_r', 'plasma', 'plasma_r', 'prism', 'prism_r', 'rainbow', 'rainbow_r', 'rocket', 'rocket_r', 'seismic', 'seismic_r', 'spring', 'spring_r', 'summer', 'summer_r', 'tab10', 'tab10_r', 'tab20', 'tab20_r', 'tab20b', 'tab20b_r', 'tab20c', 'tab20c_r', 'terrain', 'terrain_r', 'turbo', 'turbo_r', 'twilight', 'twilight_r', 'twilight_shifted', 'twilight_shifted_r', 'viridis', 'viridis_r', 'vlag', 'vlag_r', 'winter', 'winter_r'\n",
    "\n",
    "\n"
   ]
  },
  {
   "cell_type": "markdown",
   "id": "e00556af",
   "metadata": {},
   "source": [
    "# Understanding rides in general "
   ]
  },
  {
   "cell_type": "code",
   "execution_count": 11,
   "id": "f50d2869",
   "metadata": {},
   "outputs": [
    {
     "data": {
      "image/png": "[encoded data removed]",
      "text/plain": [
       "<Figure size 576x432 with 1 Axes>"
      ]
     },
     "metadata": {
      "needs_background": "light"
     },
     "output_type": "display_data"
    }
   ],
   "source": [
    "\"\"\"\n",
    "Vizualizing the rides based on their membership\n",
    "\"\"\"\n",
    "\n",
    "# to set the figuresize\n",
    "plt.figure(figsize=(8,6))\n",
    "\n",
    "# passing the member casual for x\n",
    "plot = sns.countplot(x='member_casual',data=df, \n",
    "              palette='mako', hue='member_casual')\n",
    "\n",
    "# setting the axes labels\n",
    "plot.set_xlabel(\"Membership type\")\n",
    "plot.set_ylabel(\"Number of bikes\")\n",
    "\n",
    "# to annotate the exact numbers\n",
    "for p in plot.patches:\n",
    "    plot.annotate(f'\\n{p.get_height()}', (p.get_x()+0.2, p.get_height()), ha='center', va='top', color='white', size=14)\n",
    "    "
   ]
  },
  {
   "cell_type": "markdown",
   "id": "0b71405f",
   "metadata": {},
   "source": [
    "# Understanding rides by Month"
   ]
  },
  {
   "cell_type": "code",
   "execution_count": 12,
   "id": "a1f6b800",
   "metadata": {},
   "outputs": [],
   "source": [
    "# creating a column to get the name of the month, the ride started\n",
    "\n",
    "df['start_month'] = df['started_at'].dt.month_name()"
   ]
  },
  {
   "cell_type": "code",
   "execution_count": 13,
   "id": "4c83c891",
   "metadata": {},
   "outputs": [
    {
     "data": {
      "text/plain": [
       "Text(0, 0.5, 'Membership Type')"
      ]
     },
     "execution_count": 13,
     "metadata": {},
     "output_type": "execute_result"
    },
    {
     "data": {
      "image/png": "[encoded data removed]",
      "text/plain": [
       "<Figure size 864x648 with 1 Axes>"
      ]
     },
     "metadata": {
      "needs_background": "light"
     },
     "output_type": "display_data"
    }
   ],
   "source": [
    "\"\"\"\n",
    "Vizualizing the rides based on their when they rode the bikes\n",
    "\"\"\"\n",
    "\n",
    "# to set the figuresize\n",
    "plt.figure(figsize=(12,9))\n",
    "\n",
    "# passing the month for x axis and member casual for variation\n",
    "plot = sns.countplot(x='start_month',data=df, \n",
    "              palette='winter', hue='member_casual')\n",
    "\n",
    "# setting the axes labels\n",
    "plot.set_xlabel(\"Mont\")\n",
    "plot.set_ylabel(\"Membership Type\")"
   ]
  },
  {
   "cell_type": "markdown",
   "id": "ed5724b7",
   "metadata": {},
   "source": [
    "Clearly, the casual riders are more active during the summer, the rides in general are low during the winter"
   ]
  },
  {
   "cell_type": "markdown",
   "id": "bc3a101a",
   "metadata": {},
   "source": [
    " "
   ]
  },
  {
   "cell_type": "markdown",
   "id": "906b195e",
   "metadata": {},
   "source": [
    "# Understanding rider's behavior based on day of the week"
   ]
  },
  {
   "cell_type": "code",
   "execution_count": 14,
   "id": "1a1621f8",
   "metadata": {},
   "outputs": [],
   "source": [
    "\"\"\"\n",
    "adding a column-- start_date to understand the weekly behavior\n",
    "\"\"\"\n",
    "df['start_date']= df['started_at'].dt.day_name()"
   ]
  },
  {
   "cell_type": "code",
   "execution_count": 15,
   "id": "0e989f31",
   "metadata": {},
   "outputs": [],
   "source": [
    "# filtering the columns to focus on day and other important columns\n",
    "minimal = df[['rideable_type','ride_duration','member_casual','start_date']]"
   ]
  },
  {
   "cell_type": "code",
   "execution_count": 16,
   "id": "1ddcf6c7",
   "metadata": {},
   "outputs": [
    {
     "data": {
      "text/html": [
       "<div>\n",
       "<style scoped>\n",
       "    .dataframe tbody tr th:only-of-type {\n",
       "        vertical-align: middle;\n",
       "    }\n",
       "\n",
       "    .dataframe tbody tr th {\n",
       "        vertical-align: top;\n",
       "    }\n",
       "\n",
       "    .dataframe thead th {\n",
       "        text-align: right;\n",
       "    }\n",
       "</style>\n",
       "<table border=\"1\" class=\"dataframe\">\n",
       "  <thead>\n",
       "    <tr style=\"text-align: right;\">\n",
       "      <th></th>\n",
       "      <th>rideable_type</th>\n",
       "      <th>ride_duration</th>\n",
       "      <th>member_casual</th>\n",
       "      <th>start_date</th>\n",
       "    </tr>\n",
       "  </thead>\n",
       "  <tbody>\n",
       "    <tr>\n",
       "      <th>0</th>\n",
       "      <td>electric_bike</td>\n",
       "      <td>10.0</td>\n",
       "      <td>member</td>\n",
       "      <td>Saturday</td>\n",
       "    </tr>\n",
       "    <tr>\n",
       "      <th>1</th>\n",
       "      <td>electric_bike</td>\n",
       "      <td>4.0</td>\n",
       "      <td>member</td>\n",
       "      <td>Wednesday</td>\n",
       "    </tr>\n",
       "    <tr>\n",
       "      <th>2</th>\n",
       "      <td>electric_bike</td>\n",
       "      <td>1.0</td>\n",
       "      <td>member</td>\n",
       "      <td>Thursday</td>\n",
       "    </tr>\n",
       "    <tr>\n",
       "      <th>3</th>\n",
       "      <td>electric_bike</td>\n",
       "      <td>11.0</td>\n",
       "      <td>member</td>\n",
       "      <td>Thursday</td>\n",
       "    </tr>\n",
       "    <tr>\n",
       "      <th>4</th>\n",
       "      <td>electric_bike</td>\n",
       "      <td>0.0</td>\n",
       "      <td>casual</td>\n",
       "      <td>Saturday</td>\n",
       "    </tr>\n",
       "  </tbody>\n",
       "</table>\n",
       "</div>"
      ],
      "text/plain": [
       "   rideable_type  ride_duration member_casual start_date\n",
       "0  electric_bike           10.0        member   Saturday\n",
       "1  electric_bike            4.0        member  Wednesday\n",
       "2  electric_bike            1.0        member   Thursday\n",
       "3  electric_bike           11.0        member   Thursday\n",
       "4  electric_bike            0.0        casual   Saturday"
      ]
     },
     "execution_count": 16,
     "metadata": {},
     "output_type": "execute_result"
    }
   ],
   "source": [
    "minimal.head()"
   ]
  },
  {
   "cell_type": "code",
   "execution_count": 17,
   "id": "b16cfaf0",
   "metadata": {},
   "outputs": [
    {
     "data": {
      "text/plain": [
       "Text(0, 0.5, 'No. of Riders')"
      ]
     },
     "execution_count": 17,
     "metadata": {},
     "output_type": "execute_result"
    },
    {
     "data": {
      "image/png": "[encoded data removed]",
      "text/plain": [
       "<Figure size 720x576 with 1 Axes>"
      ]
     },
     "metadata": {
      "needs_background": "light"
     },
     "output_type": "display_data"
    }
   ],
   "source": [
    "# vizualizing the rides based on day of the week\n",
    "\n",
    "# to order based on the weekday\n",
    "dates = ['Monday','Tuesday', 'Wednesday',\n",
    "         'Thursday', 'Friday', 'Saturday', 'Sunday']\n",
    "\n",
    "\n",
    "# to set the figuresize\n",
    "plt.figure(figsize=(10,8))\n",
    "\n",
    "# passing the start_date for x axis and member casual for variation\n",
    "plot = sns.countplot(x='start_date',data=minimal, \n",
    "              palette='winter', hue='member_casual', order=dates)\n",
    "\n",
    "# labeling the axes\n",
    "plot.set_xlabel(\"Day of the week\")\n",
    "plot.set_ylabel(\"No. of Riders\")\n"
   ]
  },
  {
   "cell_type": "markdown",
   "id": "77c66c30",
   "metadata": {},
   "source": [
    "We see a rise in casual members during the weekend"
   ]
  },
  {
   "cell_type": "markdown",
   "id": "0ea76a3a",
   "metadata": {},
   "source": [
    " "
   ]
  },
  {
   "cell_type": "markdown",
   "id": "7612cda1",
   "metadata": {},
   "source": [
    "# Rides from peak stations"
   ]
  },
  {
   "cell_type": "code",
   "execution_count": 18,
   "id": "8ba33213",
   "metadata": {
    "scrolled": true
   },
   "outputs": [
    {
     "data": {
      "text/plain": [
       "Streeter Dr & Grand Ave    82715\n",
       "Michigan Ave & Oak St      44348\n",
       "Wells St & Concord Ln      43610\n",
       "Millennium Park            42223\n",
       "Clark St & Elm St          41218\n",
       "Name: start_station_name, dtype: int64"
      ]
     },
     "execution_count": 18,
     "metadata": {},
     "output_type": "execute_result"
    }
   ],
   "source": [
    "\"\"\"\n",
    "Analyzing the riders behavior from the five most popular stations\n",
    "\"\"\"\n",
    "\n",
    "df['start_station_name'].value_counts().head()"
   ]
  },
  {
   "cell_type": "code",
   "execution_count": 19,
   "id": "30240b0c",
   "metadata": {},
   "outputs": [],
   "source": [
    "# getting the 5 bussiest stations\n",
    "peak_station1 = df[df['start_station_name']=='Streeter Dr & Grand Ave']\n",
    "peak_station2 = df[df['start_station_name']=='Michigan Ave & Oak St']\n",
    "peak_station3 = df[df['start_station_name']=='Wells St & Concord Ln']\n",
    "peak_station4 = df[df['start_station_name']=='Millennium Park']\n",
    "peak_station5 = df[df['start_station_name']=='Clark St & Elm St']\n"
   ]
  },
  {
   "cell_type": "code",
   "execution_count": 20,
   "id": "875f87af",
   "metadata": {},
   "outputs": [],
   "source": [
    "# concatinating them \n",
    "peak_station = pd.concat([peak_station1,peak_station2,peak_station3,peak_station4,peak_station5])"
   ]
  },
  {
   "cell_type": "code",
   "execution_count": 21,
   "id": "cc81e8cb",
   "metadata": {},
   "outputs": [
    {
     "data": {
      "text/html": [
       "<div>\n",
       "<style scoped>\n",
       "    .dataframe tbody tr th:only-of-type {\n",
       "        vertical-align: middle;\n",
       "    }\n",
       "\n",
       "    .dataframe tbody tr th {\n",
       "        vertical-align: top;\n",
       "    }\n",
       "\n",
       "    .dataframe thead th {\n",
       "        text-align: right;\n",
       "    }\n",
       "</style>\n",
       "<table border=\"1\" class=\"dataframe\">\n",
       "  <thead>\n",
       "    <tr style=\"text-align: right;\">\n",
       "      <th></th>\n",
       "      <th>ride_id</th>\n",
       "      <th>rideable_type</th>\n",
       "      <th>started_at</th>\n",
       "      <th>ended_at</th>\n",
       "      <th>start_station_name</th>\n",
       "      <th>start_station_id</th>\n",
       "      <th>end_station_name</th>\n",
       "      <th>end_station_id</th>\n",
       "      <th>start_lat</th>\n",
       "      <th>start_lng</th>\n",
       "      <th>end_lat</th>\n",
       "      <th>end_lng</th>\n",
       "      <th>member_casual</th>\n",
       "      <th>ride_duration</th>\n",
       "      <th>start_month</th>\n",
       "      <th>start_date</th>\n",
       "    </tr>\n",
       "  </thead>\n",
       "  <tbody>\n",
       "    <tr>\n",
       "      <th>3466</th>\n",
       "      <td>E8CAB30E04984AC3</td>\n",
       "      <td>classic_bike</td>\n",
       "      <td>2021-01-10 14:58:44</td>\n",
       "      <td>2021-01-10 15:12:01</td>\n",
       "      <td>Streeter Dr &amp; Grand Ave</td>\n",
       "      <td>13022</td>\n",
       "      <td>Lake Shore Dr &amp; Monroe St</td>\n",
       "      <td>13300</td>\n",
       "      <td>41.892278</td>\n",
       "      <td>-87.612043</td>\n",
       "      <td>41.880958</td>\n",
       "      <td>-87.616743</td>\n",
       "      <td>member</td>\n",
       "      <td>13.0</td>\n",
       "      <td>January</td>\n",
       "      <td>Sunday</td>\n",
       "    </tr>\n",
       "    <tr>\n",
       "      <th>4263</th>\n",
       "      <td>D321C17A8B3B8BF1</td>\n",
       "      <td>classic_bike</td>\n",
       "      <td>2021-01-25 08:23:46</td>\n",
       "      <td>2021-01-25 08:27:48</td>\n",
       "      <td>Streeter Dr &amp; Grand Ave</td>\n",
       "      <td>13022</td>\n",
       "      <td>Fairbanks Ct &amp; Grand Ave</td>\n",
       "      <td>TA1305000003</td>\n",
       "      <td>41.892278</td>\n",
       "      <td>-87.612043</td>\n",
       "      <td>41.891847</td>\n",
       "      <td>-87.620580</td>\n",
       "      <td>member</td>\n",
       "      <td>4.0</td>\n",
       "      <td>January</td>\n",
       "      <td>Monday</td>\n",
       "    </tr>\n",
       "    <tr>\n",
       "      <th>4367</th>\n",
       "      <td>A356CE08D9B3EB9D</td>\n",
       "      <td>electric_bike</td>\n",
       "      <td>2021-01-04 08:40:34</td>\n",
       "      <td>2021-01-04 08:48:55</td>\n",
       "      <td>Streeter Dr &amp; Grand Ave</td>\n",
       "      <td>13022</td>\n",
       "      <td>Clark St &amp; Lake St</td>\n",
       "      <td>KA1503000012</td>\n",
       "      <td>41.892329</td>\n",
       "      <td>-87.612248</td>\n",
       "      <td>41.886814</td>\n",
       "      <td>-87.630321</td>\n",
       "      <td>member</td>\n",
       "      <td>8.0</td>\n",
       "      <td>January</td>\n",
       "      <td>Monday</td>\n",
       "    </tr>\n",
       "    <tr>\n",
       "      <th>5541</th>\n",
       "      <td>5C5FABE2C7C1CD77</td>\n",
       "      <td>docked_bike</td>\n",
       "      <td>2021-01-21 11:33:54</td>\n",
       "      <td>2021-01-21 12:17:56</td>\n",
       "      <td>Streeter Dr &amp; Grand Ave</td>\n",
       "      <td>13022</td>\n",
       "      <td>MLK Jr Dr &amp; 29th St</td>\n",
       "      <td>TA1307000139</td>\n",
       "      <td>41.892278</td>\n",
       "      <td>-87.612043</td>\n",
       "      <td>41.842052</td>\n",
       "      <td>-87.617000</td>\n",
       "      <td>casual</td>\n",
       "      <td>44.0</td>\n",
       "      <td>January</td>\n",
       "      <td>Thursday</td>\n",
       "    </tr>\n",
       "    <tr>\n",
       "      <th>7776</th>\n",
       "      <td>E996FBB5D623F1E4</td>\n",
       "      <td>classic_bike</td>\n",
       "      <td>2021-01-16 14:39:57</td>\n",
       "      <td>2021-01-16 15:05:23</td>\n",
       "      <td>Streeter Dr &amp; Grand Ave</td>\n",
       "      <td>13022</td>\n",
       "      <td>Michigan Ave &amp; Oak St</td>\n",
       "      <td>13042</td>\n",
       "      <td>41.892278</td>\n",
       "      <td>-87.612043</td>\n",
       "      <td>41.900960</td>\n",
       "      <td>-87.623777</td>\n",
       "      <td>member</td>\n",
       "      <td>25.0</td>\n",
       "      <td>January</td>\n",
       "      <td>Saturday</td>\n",
       "    </tr>\n",
       "  </tbody>\n",
       "</table>\n",
       "</div>"
      ],
      "text/plain": [
       "               ride_id  rideable_type          started_at            ended_at  \\\n",
       "3466  E8CAB30E04984AC3   classic_bike 2021-01-10 14:58:44 2021-01-10 15:12:01   \n",
       "4263  D321C17A8B3B8BF1   classic_bike 2021-01-25 08:23:46 2021-01-25 08:27:48   \n",
       "4367  A356CE08D9B3EB9D  electric_bike 2021-01-04 08:40:34 2021-01-04 08:48:55   \n",
       "5541  5C5FABE2C7C1CD77    docked_bike 2021-01-21 11:33:54 2021-01-21 12:17:56   \n",
       "7776  E996FBB5D623F1E4   classic_bike 2021-01-16 14:39:57 2021-01-16 15:05:23   \n",
       "\n",
       "           start_station_name start_station_id           end_station_name  \\\n",
       "3466  Streeter Dr & Grand Ave            13022  Lake Shore Dr & Monroe St   \n",
       "4263  Streeter Dr & Grand Ave            13022   Fairbanks Ct & Grand Ave   \n",
       "4367  Streeter Dr & Grand Ave            13022         Clark St & Lake St   \n",
       "5541  Streeter Dr & Grand Ave            13022        MLK Jr Dr & 29th St   \n",
       "7776  Streeter Dr & Grand Ave            13022      Michigan Ave & Oak St   \n",
       "\n",
       "     end_station_id  start_lat  start_lng    end_lat    end_lng member_casual  \\\n",
       "3466          13300  41.892278 -87.612043  41.880958 -87.616743        member   \n",
       "4263   TA1305000003  41.892278 -87.612043  41.891847 -87.620580        member   \n",
       "4367   KA1503000012  41.892329 -87.612248  41.886814 -87.630321        member   \n",
       "5541   TA1307000139  41.892278 -87.612043  41.842052 -87.617000        casual   \n",
       "7776          13042  41.892278 -87.612043  41.900960 -87.623777        member   \n",
       "\n",
       "      ride_duration start_month start_date  \n",
       "3466           13.0     January     Sunday  \n",
       "4263            4.0     January     Monday  \n",
       "4367            8.0     January     Monday  \n",
       "5541           44.0     January   Thursday  \n",
       "7776           25.0     January   Saturday  "
      ]
     },
     "execution_count": 21,
     "metadata": {},
     "output_type": "execute_result"
    }
   ],
   "source": [
    "peak_station.head()\n"
   ]
  },
  {
   "cell_type": "code",
   "execution_count": 22,
   "id": "147e0c7f",
   "metadata": {},
   "outputs": [
    {
     "data": {
      "text/plain": [
       "Text(0, 0.5, 'Count')"
      ]
     },
     "execution_count": 22,
     "metadata": {},
     "output_type": "execute_result"
    },
    {
     "data": {
      "image/png": "[encoded data removed]",
      "text/plain": [
       "<Figure size 720x576 with 1 Axes>"
      ]
     },
     "metadata": {
      "needs_background": "light"
     },
     "output_type": "display_data"
    }
   ],
   "source": [
    "# to set the figuresize\n",
    "plt.figure(figsize=(10,8))\n",
    "\n",
    "peak_plot = sns.countplot(x='rideable_type',data=peak_station, \n",
    "              palette='summer',hue='member_casual')\n",
    "\n",
    "# to annotate the exact numbers\n",
    "for p in peak_plot.patches:\n",
    "    peak_plot.annotate(f'\\n{p.get_height()}', (p.get_x()+0.2, p.get_height()), ha='center', va='top', color='white', size=12)\n",
    "    \n",
    "\n",
    "# to label the axes\n",
    "peak_plot.set_xlabel(\"Type of ride\")\n",
    "peak_plot.set_ylabel(\"Count\")"
   ]
  },
  {
   "cell_type": "code",
   "execution_count": 23,
   "id": "b263ab70",
   "metadata": {},
   "outputs": [
    {
     "data": {
      "text/plain": [
       "Text(0, 0.5, 'Count')"
      ]
     },
     "execution_count": 23,
     "metadata": {},
     "output_type": "execute_result"
    },
    {
     "data": {
      "image/png": "[encoded data removed]",
      "text/plain": [
       "<Figure size 720x576 with 1 Axes>"
      ]
     },
     "metadata": {
      "needs_background": "light"
     },
     "output_type": "display_data"
    }
   ],
   "source": [
    "\"\"\"\n",
    "vizualizing the rides from the bussiest station- Streeter Dr & Grand Ave\n",
    "\"\"\"\n",
    "# to set the figuresize\n",
    "plt.figure(figsize=(10,8))\n",
    "\n",
    "# passing the p-s-1 for Streeter Dr & Grand Ave vizualization\n",
    "peak_station1plot = sns.countplot(x='rideable_type',data=peak_station1, \n",
    "              palette='summer',hue='member_casual')\n",
    "\n",
    "# to annotate the exact numbers\n",
    "for p in peak_station1plot.patches:\n",
    "    peak_station1plot.annotate(f'\\n{p.get_height()}', (p.get_x()+0.2, p.get_height()), ha='center', va='top', color='white', size=12)\n",
    "    \n",
    "# to label the axes\n",
    "peak_station1plot.set_xlabel(\"Type of ride\")\n",
    "peak_station1plot.set_ylabel(\"Count\")"
   ]
  },
  {
   "cell_type": "markdown",
   "id": "ffbf0ec8",
   "metadata": {},
   "source": []
  },
  {
   "cell_type": "code",
   "execution_count": null,
   "id": "b62a0b8b",
   "metadata": {},
   "outputs": [],
   "source": []
  },
  {
   "cell_type": "markdown",
   "id": "2f9ec5a8",
   "metadata": {},
   "source": [
    "# Understanding rides by time of the day"
   ]
  },
  {
   "cell_type": "code",
   "execution_count": 24,
   "id": "410decde",
   "metadata": {},
   "outputs": [],
   "source": [
    "\"\"\"\n",
    "creating a column to get the hour for ride\n",
    "\"\"\"\n",
    "df['start_hour']  = df.started_at.apply(lambda x: x.hour)\n",
    "\n"
   ]
  },
  {
   "cell_type": "code",
   "execution_count": 25,
   "id": "f28b600d",
   "metadata": {},
   "outputs": [
    {
     "data": {
      "text/plain": [
       "Text(0, 0.5, 'No. of rides')"
      ]
     },
     "execution_count": 25,
     "metadata": {},
     "output_type": "execute_result"
    },
    {
     "data": {
      "image/png": "[encoded data removed]",
      "text/plain": [
       "<Figure size 720x576 with 1 Axes>"
      ]
     },
     "metadata": {
      "needs_background": "light"
     },
     "output_type": "display_data"
    }
   ],
   "source": [
    "\"\"\"\n",
    "vizualizing the rides from the time of the day\n",
    "\"\"\"\n",
    "# to set the figuresize\n",
    "plt.figure(figsize=(10,8))\n",
    "\n",
    "#\n",
    "plot = sns.countplot(x='start_hour',data=df, \n",
    "              palette='summer', hue='member_casual')\n",
    "\n",
    "\n",
    "# to label the axes\n",
    "plot.set_xlabel(\"Time of the day in 25-hour format\")\n",
    "plot.set_ylabel(\"No. of rides\")\n"
   ]
  },
  {
   "cell_type": "markdown",
   "id": "5c562392",
   "metadata": {},
   "source": [
    "The casual members are high later at night, whereas the memership owners are more during the morning and the afternoon"
   ]
  },
  {
   "cell_type": "markdown",
   "id": "5fdd6d5e",
   "metadata": {},
   "source": [
    "## Categorizing the rides, similar as above"
   ]
  },
  {
   "cell_type": "code",
   "execution_count": 26,
   "id": "8529eda2",
   "metadata": {},
   "outputs": [],
   "source": [
    "\"\"\"\n",
    "function to categorize the hours\n",
    "\"\"\"\n",
    "def f(x):\n",
    "    if x <= 12 :\n",
    "        return 'Morning'\n",
    "    elif x <= 16:\n",
    "        return'Afternoon'\n",
    "    elif x <= 20:\n",
    "        return 'Evening'\n",
    "    elif x > 20:\n",
    "        return 'Night'\n",
    "    "
   ]
  },
  {
   "cell_type": "code",
   "execution_count": 27,
   "id": "d5117f38",
   "metadata": {},
   "outputs": [],
   "source": [
    "\"\"\"\n",
    "replacing the column to now view category\n",
    "\"\"\"\n",
    "df['start_hour'] = df.start_hour.apply(lambda x:f(x))"
   ]
  },
  {
   "cell_type": "code",
   "execution_count": 28,
   "id": "b2ef8649",
   "metadata": {
    "scrolled": false
   },
   "outputs": [
    {
     "data": {
      "text/plain": [
       "Text(0, 0.5, 'No. of rides')"
      ]
     },
     "execution_count": 28,
     "metadata": {},
     "output_type": "execute_result"
    },
    {
     "data": {
      "image/png": "[encoded data removed]",
      "text/plain": [
       "<Figure size 720x576 with 1 Axes>"
      ]
     },
     "metadata": {
      "needs_background": "light"
     },
     "output_type": "display_data"
    }
   ],
   "source": [
    "\"\"\"\n",
    "vizualizing the rides from the time of the day\n",
    "\"\"\"\n",
    "# to set the figuresize\n",
    "plt.figure(figsize=(10,8))\n",
    "\n",
    "#\n",
    "plot = sns.countplot(x='start_hour',data=df, \n",
    "              palette='summer', hue='member_casual')\n",
    "\n",
    "# to annotate the exact numbers\n",
    "for p in plot.patches:\n",
    "    plot.annotate(f'\\n{p.get_height()}', (p.get_x()+0.2, p.get_height()), ha='center', va='top', color='white', size=12)\n",
    "    \n",
    "# to label the axes\n",
    "plot.set_xlabel(\"Time of the day in categories\")\n",
    "plot.set_ylabel(\"No. of rides\")"
   ]
  },
  {
   "cell_type": "code",
   "execution_count": null,
   "id": "c1fee2fa",
   "metadata": {},
   "outputs": [],
   "source": []
  }
 ],
 "metadata": {
  "kernelspec": {
   "display_name": "Python 3 (ipykernel)",
   "language": "python",
   "name": "python3"
  },
  "language_info": {
   "codemirror_mode": {
    "name": "ipython",
    "version": 3
   },
   "file_extension": ".py",
   "mimetype": "text/x-python",
   "name": "python",
   "nbconvert_exporter": "python",
   "pygments_lexer": "ipython3",
   "version": "3.9.13"
  }
 },
 "nbformat": 4,
 "nbformat_minor": 5
}
